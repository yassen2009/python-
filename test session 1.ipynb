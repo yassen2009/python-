{
 "cells": [
  {
   "cell_type": "code",
   "execution_count": 1,
   "id": "c97db6b4",
   "metadata": {},
   "outputs": [
    {
     "name": "stdout",
     "output_type": "stream",
     "text": [
      "welcom to python world\n"
     ]
    }
   ],
   "source": [
    "print(\"welcom to python world\")"
   ]
  },
  {
   "cell_type": "code",
   "execution_count": null,
   "id": "378fb20f",
   "metadata": {},
   "outputs": [],
   "source": []
  }
 ],
 "metadata": {
  "kernelspec": {
   "display_name": "Python 3 (ipykernel)",
   "language": "python",
   "name": "python3"
  },
  "language_info": {
   "codemirror_mode": {
    "name": "ipython",
    "version": 3
   },
   "file_extension": ".py",
   "mimetype": "text/x-python",
   "name": "python",
   "nbconvert_exporter": "python",
   "pygments_lexer": "ipython3",
   "version": "3.11.3"
  }
 },
 "nbformat": 4,
 "nbformat_minor": 5
}
